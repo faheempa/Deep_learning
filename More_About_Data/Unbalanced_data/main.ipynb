{
 "cells": [
  {
   "cell_type": "markdown",
   "metadata": {
    "id": "bhWV8oes-wKR"
   },
   "source": [
    "### imports"
   ]
  },
  {
   "cell_type": "code",
   "execution_count": null,
   "metadata": {
    "id": "7U3TmybM4yMw"
   },
   "outputs": [],
   "source": [
    "import torch\n",
    "import torch.nn as nn\n",
    "import torch.nn.functional as F\n",
    "from torch.utils.data import DataLoader, TensorDataset\n",
    "from sklearn.model_selection import train_test_split\n",
    "import numpy as np\n",
    "import scipy.stats as stats\n",
    "import pandas as pd\n",
    "import matplotlib.pyplot as plt\n",
    "import seaborn as sns"
   ]
  },
  {
   "cell_type": "markdown",
   "metadata": {
    "id": "2anVFzBXGdwH"
   },
   "source": [
    "### Import and process the data"
   ]
  },
  {
   "cell_type": "code",
   "execution_count": null,
   "metadata": {
    "id": "0ohXIxzt4_U2"
   },
   "outputs": [],
   "source": [
    "# import the data\n",
    "url = \"https://archive.ics.uci.edu/ml/machine-learning-databases/wine-quality/winequality-red.csv\"\n",
    "data = pd.read_csv(url, sep=\";\")\n",
    "data = data[data[\"total sulfur dioxide\"] < 200]  # drop a few outliers\n",
    "\n",
    "# z-score all columns except for quality\n",
    "cols2zscore = data.keys()\n",
    "cols2zscore = cols2zscore.drop(\"quality\")\n",
    "data[cols2zscore] = data[cols2zscore].apply(stats.zscore)"
   ]
  },
  {
   "cell_type": "markdown",
   "metadata": {
    "id": "vGQd7xmM5Gns"
   },
   "source": [
    "### A function to process the data by quality metric\n",
    "\n"
   ]
  },
  {
   "cell_type": "code",
   "execution_count": null,
   "metadata": {
    "id": "2kZ6YPe8Gav5"
   },
   "outputs": [],
   "source": [
    "def createAdataset(qualThreshold):\n",
    "\n",
    "    data[\"boolQuality\"] = 0\n",
    "    tmp = (data[\"quality\"] > qualThreshold).astype(int)\n",
    "    data[\"boolQuality\"] = tmp\n",
    "\n",
    "    # convert from pandas dataframe to tensor\n",
    "    dataT = torch.tensor(data[cols2zscore].values).float()\n",
    "    labels = torch.tensor(data[\"boolQuality\"].values).float()\n",
    "    labels = labels[:, None]  # transform to matrix\n",
    "\n",
    "    #  split the data\n",
    "    train_data, test_data, train_labels, test_labels = train_test_split(dataT, labels, test_size=0.1)\n",
    "\n",
    "    # then convert them into PyTorch Datasets (note: already converted to tensors)\n",
    "    train_data = TensorDataset(train_data, train_labels)\n",
    "    test_data = TensorDataset(test_data, test_labels)\n",
    "\n",
    "    # finally, translate into dataloader objects\n",
    "    batchsize = 8\n",
    "    train_loader = DataLoader(train_data, batch_size=batchsize, shuffle=True, drop_last=True)\n",
    "    test_loader = DataLoader(test_data, batch_size=test_data.tensors[0].shape[0])\n",
    "\n",
    "    return train_loader, test_loader"
   ]
  },
  {
   "cell_type": "code",
   "execution_count": null,
   "metadata": {
    "id": "bbf064xxGa_x"
   },
   "outputs": [],
   "source": [
    "# test the dataset and the number of samples\n",
    "train_loader, test_loader = createAdataset(5)\n",
    "qualityRatings = train_loader.dataset.tensors[1].detach()\n",
    "print(\"%s low-rated wines\" % torch.sum(qualityRatings == 0).item())\n",
    "print(\"%s high-rated wines\" % torch.sum(qualityRatings == 1).item())"
   ]
  },
  {
   "cell_type": "markdown",
   "metadata": {
    "id": "I7g0mivk5GqP"
   },
   "source": [
    "### DL model and a function to train it"
   ]
  },
  {
   "cell_type": "code",
   "execution_count": null,
   "metadata": {
    "id": "N0vAnQi9DNRa"
   },
   "outputs": [],
   "source": [
    "class ANNwine(nn.Module):\n",
    "    def __init__(self):\n",
    "        super().__init__()\n",
    "\n",
    "        ### input layer\n",
    "        self.input = nn.Linear(11, 16)\n",
    "\n",
    "        ### hidden layers\n",
    "        self.fc1 = nn.Linear(16, 32)\n",
    "        self.fc2 = nn.Linear(32, 32)\n",
    "\n",
    "        ### output layer\n",
    "        self.output = nn.Linear(32, 1)\n",
    "\n",
    "    # forward pass\n",
    "    def forward(self, x):\n",
    "        x = F.leaky_relu(self.input(x))\n",
    "        x = F.leaky_relu(self.fc1(x))\n",
    "        x = F.leaky_relu(self.fc2(x))\n",
    "        return self.output(x)"
   ]
  },
  {
   "cell_type": "code",
   "execution_count": null,
   "metadata": {
    "id": "0XRPe56rGp2k"
   },
   "outputs": [],
   "source": [
    "numepochs = 500\n",
    "\n",
    "\n",
    "def trainTheModel(winenet):\n",
    "\n",
    "    lossfun = nn.BCEWithLogitsLoss()\n",
    "    optimizer = torch.optim.Adam(winenet.parameters(), lr=0.001)\n",
    "\n",
    "    # initialize losses\n",
    "    losses = torch.zeros(numepochs)\n",
    "    trainAcc = []\n",
    "    testAcc = []\n",
    "\n",
    "    # loop over epochs\n",
    "    for epochi in range(numepochs):\n",
    "\n",
    "        # loop over training data batches\n",
    "        batchAcc = []\n",
    "        batchLoss = []\n",
    "        for X, y in train_loader:\n",
    "\n",
    "            # forward pass and loss\n",
    "            yHat = winenet(X)\n",
    "            loss = lossfun(yHat, y)\n",
    "\n",
    "            # backprop\n",
    "            optimizer.zero_grad()\n",
    "            loss.backward()\n",
    "            optimizer.step()\n",
    "\n",
    "            # loss from this batch\n",
    "            batchLoss.append(loss.item())\n",
    "\n",
    "            # compute training accuracy for this batch\n",
    "            batchAcc.append(100 * torch.mean(((yHat > 0) == y).float()).item())\n",
    "\n",
    "        trainAcc.append(np.mean(batchAcc))\n",
    "        losses[epochi] = np.mean(batchLoss)\n",
    "\n",
    "        # test accuracy\n",
    "        X, y = next(iter(test_loader))\n",
    "        with torch.no_grad():\n",
    "            yHat = winenet(X)\n",
    "        testAcc.append(100 * torch.mean(((yHat > 0) == y).float()).item())\n",
    "\n",
    "    return trainAcc, testAcc, losses"
   ]
  },
  {
   "cell_type": "code",
   "execution_count": null,
   "metadata": {
    "id": "oL7EqhYjGp51"
   },
   "outputs": [],
   "source": [
    "# create the data\n",
    "train_loader, test_loader = createAdataset(5)\n",
    "\n",
    "# create a model and train it\n",
    "winenet = ANNwine()\n",
    "trainAcc, testAcc, losses = trainTheModel(winenet)\n",
    "\n",
    "# compute accuracy per quality type\n",
    "X, y = next(iter(test_loader))\n",
    "yHat = winenet(X)\n",
    "itemAccuracy = ((yHat > 0) == y).float()\n",
    "\n",
    "perQualAcc = [\n",
    "    100 * torch.mean(itemAccuracy[y == 0]),\n",
    "    100 * torch.mean(itemAccuracy[y == 1]),\n",
    "]\n",
    "print(\"Accuracy for low-rated wines: %.2f%%\" % perQualAcc[0].item())\n",
    "print(\"Accuracy for high-rated wines: %.2f%%\" % perQualAcc[1].item())"
   ]
  },
  {
   "cell_type": "markdown",
   "metadata": {
    "id": "fOEVFMqK2d5S"
   },
   "source": [
    "### run the experiment"
   ]
  },
  {
   "cell_type": "code",
   "execution_count": null,
   "metadata": {
    "id": "_7mAB4utDMeh"
   },
   "outputs": [],
   "source": [
    "fig, ax = plt.subplots(3, 3, figsize=(18, 12))\n",
    "\n",
    "# the quality thresholds\n",
    "qualityThresholds = [4, 5, 6]\n",
    "\n",
    "for quali in range(len(qualityThresholds)):\n",
    "\n",
    "    # create the data and model, and train it\n",
    "    train_loader, test_loader = createAdataset(qualityThresholds[quali])\n",
    "    winenet = ANNwine()\n",
    "    trainAcc, testAcc, losses = trainTheModel()\n",
    "\n",
    "    # compute accuracy per quality type\n",
    "    X, y = next(iter(test_loader))\n",
    "    itemAccuracy = ((winenet(X) > 0) == y).float()\n",
    "    perQualAcc = [\n",
    "        100 * torch.mean(itemAccuracy[y == 0]),\n",
    "        100 * torch.mean(itemAccuracy[y == 1]),\n",
    "    ]\n",
    "\n",
    "    # plot losses\n",
    "    ax[quali, 0].plot(losses)\n",
    "    ax[quali, 0].set_title(\n",
    "        \"Losses with qualthresh \" + str(qualityThresholds[quali] + 0.5)\n",
    "    )\n",
    "    ax[quali, 0].set_xlabel(\"Epoch\")\n",
    "    ax[quali, 0].grid()\n",
    "\n",
    "    # plot overall accuracy\n",
    "    ax[quali, 1].plot(trainAcc, label=\"Train\")\n",
    "    ax[quali, 1].plot(testAcc, label=\"Test\")\n",
    "    ax[quali, 1].set_title(\n",
    "        \"Accuracy with qualthresh \" + str(qualityThresholds[quali] + 0.5)\n",
    "    )\n",
    "    ax[quali, 1].legend()\n",
    "    ax[quali, 1].set_xlabel(\"Epoch\")\n",
    "    ax[quali, 1].set_ylim([0, 100])\n",
    "    ax[quali, 1].grid()\n",
    "\n",
    "    # plot the per-quality accuracy\n",
    "    bh = ax[quali, 2].bar([\"Bad\", \"Good\"], perQualAcc)\n",
    "    ax[quali, 2].set_ylim([0, 100])\n",
    "    ax[quali, 2].set_xlabel(\"Wine quality\")\n",
    "    ax[quali, 2].set_ylabel(\"Test accuracy\")\n",
    "    ax[quali, 2].set_title(\n",
    "        \"Per-qual acc. with qualthresh \" + str(qualityThresholds[quali] + 0.5)\n",
    "    )\n",
    "\n",
    "    # print the counts on top of each bar\n",
    "    for i, r in enumerate(bh):\n",
    "        N = torch.sum(train_loader.dataset.tensors[1] == i).item()\n",
    "        ax[quali, 2].text(\n",
    "            r.get_x() + r.get_width() / 2,\n",
    "            r.get_height() + 1,\n",
    "            \"N=%s\" % N,\n",
    "            ha=\"center\",\n",
    "            va=\"bottom\",\n",
    "            fontsize=14,\n",
    "        )\n",
    "\n",
    "plt.tight_layout()\n",
    "plt.show()"
   ]
  }
 ],
 "metadata": {
  "colab": {
   "authorship_tag": "ABX9TyM1YEM4TNx7JZ+yK6WtFt1D",
   "collapsed_sections": [],
   "name": "DUDL_data_CodeChallengeUnbalanced.ipynb",
   "provenance": [
    {
     "file_id": "1ARBJV6EDPwhvPjmz7Xob-LURkZvTDk-K",
     "timestamp": 1618260405681
    },
    {
     "file_id": "1iKQU7riib5sbenxTvmpXe8EI5N79sdAV",
     "timestamp": 1617346475264
    },
    {
     "file_id": "1ZD_ADbh6qrlHE16V7Yc8VF9Vrn2c6bMQ",
     "timestamp": 1617047906157
    }
   ]
  },
  "kernelspec": {
   "display_name": "Python 3",
   "name": "python3"
  },
  "language_info": {
   "name": "python"
  }
 },
 "nbformat": 4,
 "nbformat_minor": 0
}
